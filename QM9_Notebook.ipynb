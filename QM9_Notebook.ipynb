{
  "nbformat": 4,
  "nbformat_minor": 0,
  "metadata": {
    "colab": {
      "provenance": [],
      "gpuType": "T4"
    },
    "kernelspec": {
      "name": "python3",
      "display_name": "Python 3"
    },
    "language_info": {
      "name": "python"
    },
    "accelerator": "GPU"
  },
  "cells": [
    {
      "cell_type": "markdown",
      "source": [
        "# Instalação de Pacotes"
      ],
      "metadata": {
        "id": "xWtCqjkXQHdy"
      }
    },
    {
      "cell_type": "code",
      "source": [
        "!pip install --quiet rdkit\n",
        "!pip install --quiet ase\n",
        "!pip install --quiet dscribe\n",
        "!pip install --quiet optuna"
      ],
      "metadata": {
        "colab": {
          "base_uri": "https://localhost:8080/"
        },
        "id": "YdEEh4jKR2MC",
        "outputId": "f9549bed-3692-4578-98c8-1bb6c28f1cde"
      },
      "execution_count": 1,
      "outputs": [
        {
          "output_type": "stream",
          "name": "stdout",
          "text": [
            "\u001b[2K     \u001b[90m━━━━━━━━━━━━━━━━━━━━━━━━━━━━━━━━━━━━━━━━\u001b[0m \u001b[32m29.7/29.7 MB\u001b[0m \u001b[31m14.5 MB/s\u001b[0m eta \u001b[36m0:00:00\u001b[0m\n",
            "\u001b[2K     \u001b[90m━━━━━━━━━━━━━━━━━━━━━━━━━━━━━━━━━━━━━━━━\u001b[0m \u001b[32m2.2/2.2 MB\u001b[0m \u001b[31m7.9 MB/s\u001b[0m eta \u001b[36m0:00:00\u001b[0m\n",
            "\u001b[2K     \u001b[90m━━━━━━━━━━━━━━━━━━━━━━━━━━━━━━━━━━━━━━━━\u001b[0m \u001b[32m11.8/11.8 MB\u001b[0m \u001b[31m48.5 MB/s\u001b[0m eta \u001b[36m0:00:00\u001b[0m\n",
            "\u001b[2K     \u001b[90m━━━━━━━━━━━━━━━━━━━━━━━━━━━━━━━━━━━━━━\u001b[0m \u001b[32m227.7/227.7 kB\u001b[0m \u001b[31m23.5 MB/s\u001b[0m eta \u001b[36m0:00:00\u001b[0m\n",
            "\u001b[2K     \u001b[90m━━━━━━━━━━━━━━━━━━━━━━━━━━━━━━━━━━━━━━━━\u001b[0m \u001b[32m81.0/81.0 kB\u001b[0m \u001b[31m9.4 MB/s\u001b[0m eta \u001b[36m0:00:00\u001b[0m\n",
            "\u001b[2K     \u001b[90m━━━━━━━━━━━━━━━━━━━━━━━━━━━━━━━━━━━━━━━\u001b[0m \u001b[32m404.2/404.2 kB\u001b[0m \u001b[31m4.5 MB/s\u001b[0m eta \u001b[36m0:00:00\u001b[0m\n",
            "\u001b[2K     \u001b[90m━━━━━━━━━━━━━━━━━━━━━━━━━━━━━━━━━━━━━━━\u001b[0m \u001b[32m226.0/226.0 kB\u001b[0m \u001b[31m8.4 MB/s\u001b[0m eta \u001b[36m0:00:00\u001b[0m\n",
            "\u001b[2K     \u001b[90m━━━━━━━━━━━━━━━━━━━━━━━━━━━━━━━━━━━━━━━━\u001b[0m \u001b[32m78.7/78.7 kB\u001b[0m \u001b[31m6.5 MB/s\u001b[0m eta \u001b[36m0:00:00\u001b[0m\n",
            "\u001b[?25h"
          ]
        }
      ]
    },
    {
      "cell_type": "markdown",
      "source": [
        "# Carregamento Pacotes\n"
      ],
      "metadata": {
        "id": "DkwmvnMVQNHA"
      }
    },
    {
      "cell_type": "code",
      "source": [
        "import os\n",
        "import zipfile\n",
        "\n",
        "import numpy as np\n",
        "import matplotlib.pyplot as plt\n",
        "\n",
        "import optuna\n",
        "\n",
        "import torch\n",
        "import torch.nn as nn\n",
        "import torch.optim as optim\n",
        "from torch.utils.data import Dataset, DataLoader, random_split\n",
        "\n",
        "print(torch.__version__)\n",
        "device = torch.device(\"cuda\" if torch.cuda.is_available() else \"cpu\")\n",
        "print(f\"Executando em: {device}\")"
      ],
      "metadata": {
        "id": "Xi8EXxxhQF56",
        "colab": {
          "base_uri": "https://localhost:8080/"
        },
        "outputId": "22b26bf8-3dc6-46a3-d172-f642bd27c4ed"
      },
      "execution_count": 2,
      "outputs": [
        {
          "output_type": "stream",
          "name": "stdout",
          "text": [
            "2.0.1+cu118\n",
            "Executando em: cuda\n"
          ]
        }
      ]
    },
    {
      "cell_type": "code",
      "source": [
        "torch.manual_seed(0)\n",
        "torch.cuda.manual_seed_all(0)\n",
        "np.random.seed(0)"
      ],
      "metadata": {
        "id": "TvO3H93bUfLI"
      },
      "execution_count": 3,
      "outputs": []
    },
    {
      "cell_type": "markdown",
      "source": [
        "# Carregamento do Conjunto de Dados (QM9)\n",
        "\n",
        "## Dropbox link (Download)"
      ],
      "metadata": {
        "id": "NzF5Qw6YQAT7"
      }
    },
    {
      "cell_type": "code",
      "source": [
        "!wget --no-check-certificate -O QM9.zip https://www.dropbox.com/scl/fi/lbs52lc0av3eqi9zws3wp/QM9.zip?rlkey=925vtuebvf7kf9ifq9143d6az&dl=0\n",
        "\n",
        "zip_path = \"/content/QM9.zip\"\n",
        "qm9_folder = \"/content/QM9Data\"\n",
        "if not os.path.exists(qm9_folder):\n",
        "    os.makedirs(qm9_folder)\n",
        "\n",
        "with zipfile.ZipFile(zip_path, 'r') as zip_ref:\n",
        "    zip_ref.extractall(qm9_folder)\n",
        "\n",
        "print(f\"Dados salvos em: {qm9_folder}\")\n"
      ],
      "metadata": {
        "id": "_x7g1Ungd-W6",
        "colab": {
          "base_uri": "https://localhost:8080/"
        },
        "outputId": "0915c4f5-6b98-424c-ef80-c5b16fb85dce"
      },
      "execution_count": 4,
      "outputs": [
        {
          "output_type": "stream",
          "name": "stdout",
          "text": [
            "--2023-09-18 23:27:54--  https://www.dropbox.com/scl/fi/lbs52lc0av3eqi9zws3wp/QM9.zip?rlkey=925vtuebvf7kf9ifq9143d6az\n",
            "Resolving www.dropbox.com (www.dropbox.com)... 162.125.8.18, 2620:100:6018:18::a27d:312\n",
            "Connecting to www.dropbox.com (www.dropbox.com)|162.125.8.18|:443... connected.\n",
            "HTTP request sent, awaiting response... 302 Found\n",
            "Location: https://www.dropbox.com/e/scl/fi/lbs52lc0av3eqi9zws3wp/QM9.zip?rlkey=925vtuebvf7kf9ifq9143d6az [following]\n",
            "--2023-09-18 23:27:54--  https://www.dropbox.com/e/scl/fi/lbs52lc0av3eqi9zws3wp/QM9.zip?rlkey=925vtuebvf7kf9ifq9143d6az\n",
            "Reusing existing connection to www.dropbox.com:443.\n",
            "HTTP request sent, awaiting response... 302 Found\n",
            "Location: https://uc9edcd3f9ed86517272e67117b3.dl.dropboxusercontent.com/cd/0/inline/CD_XIlMctznB-wxb-eYo0yFOpdJkRmPfWpt6tj-1J30Op6VgenPThcTvzPLmFzMU-MAUXWezHH4jCuUQ3uMixILwC-q_bhcryAotebhbR0rRZtrCv4jXbbH8NN4a6bzwYZg/file# [following]\n",
            "--2023-09-18 23:27:55--  https://uc9edcd3f9ed86517272e67117b3.dl.dropboxusercontent.com/cd/0/inline/CD_XIlMctznB-wxb-eYo0yFOpdJkRmPfWpt6tj-1J30Op6VgenPThcTvzPLmFzMU-MAUXWezHH4jCuUQ3uMixILwC-q_bhcryAotebhbR0rRZtrCv4jXbbH8NN4a6bzwYZg/file\n",
            "Resolving uc9edcd3f9ed86517272e67117b3.dl.dropboxusercontent.com (uc9edcd3f9ed86517272e67117b3.dl.dropboxusercontent.com)... 162.125.3.15, 2620:100:6018:15::a27d:30f\n",
            "Connecting to uc9edcd3f9ed86517272e67117b3.dl.dropboxusercontent.com (uc9edcd3f9ed86517272e67117b3.dl.dropboxusercontent.com)|162.125.3.15|:443... connected.\n",
            "HTTP request sent, awaiting response... 302 Found\n",
            "Location: /cd/0/inline2/CD97rkM86T0SfDbO6XF38LubjpqklcemuOj4Qh36O30jWeduq067l5ZGufv3zs3sac8KOZXK7nfj50u-3UicW-nWX4b2HTmdyZ6aF1lVS_544vSjGpmC8DVwGoYFEe-SxHqONs8CB_gPQH9LnZ4_mYaRmUwkdb51vMNtuP6Pl_chcpuyxn-9eNM4haVoVbs7gOyX_fUy432MfcKgGybapHGZLE02WW2qfzVLKOdNYA-nB612ypKXlLRrnhAnTp7W3OlkzXqBVQcjwIfuJ2ov9_bml-tEpqZs9SEG7FfrIh-popt7bCaZ1fyVyn1XPXCuzin9r0ySOnEYBZwqMIj7ZGEg0yylULL-VE4eOxt3WQCVFQ/file [following]\n",
            "--2023-09-18 23:27:55--  https://uc9edcd3f9ed86517272e67117b3.dl.dropboxusercontent.com/cd/0/inline2/CD97rkM86T0SfDbO6XF38LubjpqklcemuOj4Qh36O30jWeduq067l5ZGufv3zs3sac8KOZXK7nfj50u-3UicW-nWX4b2HTmdyZ6aF1lVS_544vSjGpmC8DVwGoYFEe-SxHqONs8CB_gPQH9LnZ4_mYaRmUwkdb51vMNtuP6Pl_chcpuyxn-9eNM4haVoVbs7gOyX_fUy432MfcKgGybapHGZLE02WW2qfzVLKOdNYA-nB612ypKXlLRrnhAnTp7W3OlkzXqBVQcjwIfuJ2ov9_bml-tEpqZs9SEG7FfrIh-popt7bCaZ1fyVyn1XPXCuzin9r0ySOnEYBZwqMIj7ZGEg0yylULL-VE4eOxt3WQCVFQ/file\n",
            "Reusing existing connection to uc9edcd3f9ed86517272e67117b3.dl.dropboxusercontent.com:443.\n",
            "HTTP request sent, awaiting response... 200 OK\n",
            "Length: 134058454 (128M) [application/zip]\n",
            "Saving to: ‘QM9.zip’\n",
            "\n",
            "QM9.zip             100%[===================>] 127.85M  98.4MB/s    in 1.3s    \n",
            "\n",
            "2023-09-18 23:27:57 (98.4 MB/s) - ‘QM9.zip’ saved [134058454/134058454]\n",
            "\n",
            "Dados salvos em: /content/QM9Data\n"
          ]
        }
      ]
    },
    {
      "cell_type": "markdown",
      "source": [
        "# Extração e Preparação dos Dados\n"
      ],
      "metadata": {
        "id": "qBC_6bG1ytHM"
      }
    },
    {
      "cell_type": "code",
      "source": [
        "with open(qm9_folder+\"/dsgdb9nsd_075700.xyz\") as file:\n",
        "    for line in file:\n",
        "        print(line)"
      ],
      "metadata": {
        "colab": {
          "base_uri": "https://localhost:8080/"
        },
        "id": "vM90JwWM0EMx",
        "outputId": "fd3a2d9b-19c7-45b6-c9f0-2d07aed85729"
      },
      "execution_count": 5,
      "outputs": [
        {
          "output_type": "stream",
          "name": "stdout",
          "text": [
            "16\n",
            "\n",
            "gdb 75700\t2.29421\t2.10153\t1.19281\t1.5927\t71.76\t-0.2569\t-0.021\t0.2359\t1002.3496\t0.125963\t-434.09168\t-434.083979\t-434.083035\t-434.123886\t28.894\t\n",
            "\n",
            "C\t 0.0082723652\t 1.4385040241\t 0.0216304465\t-0.368015\n",
            "\n",
            "N\t-0.0080626856\t-0.0080486441\t-0.0143324088\t-0.128223\n",
            "\n",
            "C\t-0.0025221437\t-0.7715337629\t-1.1909538518\t 0.388126\n",
            "\n",
            "N\t 0.0263387403\t-0.3906951642\t-2.3959782595\t-0.532716\n",
            "\n",
            "N\t-0.0435539427\t-2.1606959554\t-0.8372214133\t-0.113662\n",
            "\n",
            "C\t 1.1983737221\t-2.6000297832\t-0.1756188576\t-0.242408\n",
            "\n",
            "C\t 0.0113061798\t-2.2080435108\t 0.6349537932\t-0.162296\n",
            "\n",
            "C\t-0.0270216144\t-0.7926214222\t 1.1346516211\t 0.42506\n",
            "\n",
            "O\t-0.0955434019\t-0.3870203764\t 2.2694066024\t-0.371241\n",
            "\n",
            "H\t 0.9216696532\t 1.8340504971\t-0.4354195835\t 0.141444\n",
            "\n",
            "H\t-0.8595819793\t 1.8482562075\t-0.5050019382\t 0.146272\n",
            "\n",
            "H\t-0.0319704226\t 1.7357251605\t 1.0706204257\t 0.173704\n",
            "\n",
            "H\t 0.0660884133\t 0.6248858104\t-2.4690959743\t 0.222945\n",
            "\n",
            "H\t 1.4244948343\t-3.6539669067\t-0.2978095694\t 0.14517\n",
            "\n",
            "H\t 2.0547706395\t-1.9318987311\t-0.1997156332\t 0.140887\n",
            "\n",
            "H\t-0.5885282877\t-2.9489560327\t 1.1502816209\t 0.134952\n",
            "\n",
            "114.8971\t156.0344\t181.4536\t222.4783\t289.6406\t342.4776\t383.9108\t531.6825\t606.7765\t654.8158\t726.4123\t743.2719\t775.8113\t819.1963\t835.1968\t863.3752\t974.575\t988.4193\t1017.3039\t1068.8922\t1111.2543\t1149.8109\t1156.9358\t1165.9378\t1212.256\t1266.9288\t1299.8348\t1342.6807\t1411.3007\t1454.1074\t1492.7876\t1505.1204\t1513.6903\t1754.5533\t1844.5096\t3034.3494\t3095.271\t3121.9429\t3150.0722\t3190.3306\t3218.0495\t3502.8963\n",
            "\n",
            "CN1C(=N)N2CC2C1=O\tCN1[C]([NH])N2C[C@H]2C1=O\t\n",
            "\n",
            "InChI=1S/C5H7N3O/c1-7-4(9)3-2-8(3)5(7)6/h3,6H,2H2,1H3\tInChI=1S/C5H7N3O/c1-7-4(9)3-2-8(3)5(7)6/h3,6H,2H2,1H3/t3-,8?/m0/s1\n",
            "\n"
          ]
        }
      ]
    },
    {
      "cell_type": "code",
      "source": [
        "def load_qm9_xyz(file_path):\n",
        "    \"\"\"Load a single QM9.xyz file.\"\"\"\n",
        "    with open(file_path, 'r') as f:\n",
        "        # Number of atoms\n",
        "        natoms = int(f.readline())\n",
        "        # Properties are in the second line\n",
        "        properties = list(map(float, f.readline().split()[2:]))\n",
        "        # Read atomic coordinates and types\n",
        "        atoms = []\n",
        "        coordinates = []\n",
        "        # print(properties)\n",
        "        for num_line, line in enumerate(f):\n",
        "            # print(num_line, line)\n",
        "            if num_line >= 0 and num_line < natoms:\n",
        "                info = line.replace(\"*^\",\"e\").split()\n",
        "                atoms.append(info[0])\n",
        "                coordinates.append(list(map(float, info[1:-1])))\n",
        "\n",
        "    return {\n",
        "        \"natoms\": natoms,\n",
        "        \"atoms\": atoms,\n",
        "        \"coordinates\": np.array(coordinates),\n",
        "        \"properties\": properties\n",
        "    }\n",
        "\n",
        "def load_qm9_dataset(directory_path, list_mols=[]):\n",
        "    \"\"\"Load the entire QM9 dataset from a directory containing .xyz files.\"\"\"\n",
        "    X = []\n",
        "    Y = []\n",
        "    S = []\n",
        "    for file_name in os.listdir(directory_path):\n",
        "        if file_name.endswith(\".xyz\"):\n",
        "            file_path = os.path.join(directory_path, file_name)\n",
        "            molecule_data = load_qm9_xyz(file_path)\n",
        "            if molecule_data['natoms'] in list_mols or len(list_mols)==0:\n",
        "              X.append([molecule_data['atoms'], molecule_data['coordinates']])\n",
        "              Y.append(molecule_data['properties'])\n",
        "              S.append(molecule_data['natoms'])\n",
        "    return X, Y, S"
      ],
      "metadata": {
        "id": "tVfUvjv1y-IF"
      },
      "execution_count": 6,
      "outputs": []
    },
    {
      "cell_type": "code",
      "source": [
        "# Loading\n",
        "# segundo parâmetro: lista com o tamanho das moléculas desejadas | [] para selecionar todas]\n",
        "XYZ, Y, natoms = load_qm9_dataset(qm9_folder)\n",
        "Y = np.array(Y)\n",
        "\n",
        "samples =  len(XYZ)\n",
        "print(f\"Numero Moléculas: {samples}\")\n",
        "print(f\"Primeira Molécula: {XYZ[0]}\")\n",
        "print(f\"Propriedades Mol[0]: {Y[0]}\")\n"
      ],
      "metadata": {
        "colab": {
          "base_uri": "https://localhost:8080/"
        },
        "id": "YZt3vxtC8ZsX",
        "outputId": "3eb01418-028a-472d-9441-c6e82aa4d0fb"
      },
      "execution_count": 7,
      "outputs": [
        {
          "output_type": "stream",
          "name": "stdout",
          "text": [
            "Numero Moléculas: 133885\n",
            "Primeira Molécula: [['O', 'C', 'C', 'C', 'N', 'C', 'C', 'C', 'N', 'H', 'H', 'H', 'H', 'H', 'H', 'H', 'H'], array([[ 0.24257585,  1.32388969,  0.24701474],\n",
            "       [ 0.0476653 , -0.0440544 ,  0.0679647 ],\n",
            "       [-1.44165642, -0.55954999,  0.0052019 ],\n",
            "       [-2.47170141,  0.53740874, -0.30037786],\n",
            "       [-1.91910154,  0.60521928, -1.68023102],\n",
            "       [-1.26779903, -0.71909899, -1.53427424],\n",
            "       [ 0.27303556, -0.59556752, -1.40282132],\n",
            "       [ 0.98024384,  0.24134257, -2.35231204],\n",
            "       [ 1.5260127 ,  0.9239831 , -3.10934342],\n",
            "       [-0.18451694,  1.77802083, -0.4932051 ],\n",
            "       [ 0.66318403, -0.54748135,  0.81569583],\n",
            "       [-1.69876068, -1.37167214,  0.68196289],\n",
            "       [-3.50030334,  0.15823072, -0.24421804],\n",
            "       [-2.40058088,  1.47158411,  0.26552362],\n",
            "       [-2.57939962,  0.70280537, -2.44096466],\n",
            "       [-1.67628136, -1.54041677, -2.12776416],\n",
            "       [ 0.73705348, -1.58643094, -1.36372309]])]\n",
            "Propriedades Mol[0]: [ 2.82446000e+00  1.49113000e+00  1.30232000e+00  5.33670000e+00\n",
            "  7.21300000e+01 -2.49800000e-01  2.50000000e-02  2.74800000e-01\n",
            "  1.01669120e+03  1.37837000e-01 -4.17973732e+02 -4.17966026e+02\n",
            " -4.17965082e+02 -4.18006086e+02  2.97160000e+01]\n"
          ]
        }
      ]
    },
    {
      "cell_type": "code",
      "source": [
        "natoms = np.array(natoms)\n",
        "min_atoms = np.min(natoms)\n",
        "max_atoms = np.max(natoms)\n",
        "print(f\"Menor Molécula: {min_atoms}\")\n",
        "print(f\"Maior Molécula: {max_atoms}\")"
      ],
      "metadata": {
        "colab": {
          "base_uri": "https://localhost:8080/"
        },
        "id": "PR3MuNsMPf1q",
        "outputId": "4d2aff30-8740-4ea7-ce5c-71441e626379"
      },
      "execution_count": 8,
      "outputs": [
        {
          "output_type": "stream",
          "name": "stdout",
          "text": [
            "Menor Molécula: 3\n",
            "Maior Molécula: 29\n"
          ]
        }
      ]
    },
    {
      "cell_type": "markdown",
      "source": [
        "# Geração dos Descritores (DScribe)\n",
        "\n",
        "- Matriz de Coulomb (CM)\n",
        "- Atom-centered Symmetry Functions (ACSF)\n",
        "- Smooth Overlap of Atomic Positions (SOAP)\n",
        "- Many-body Tensor Representation (MBTR)\n"
      ],
      "metadata": {
        "id": "fOAEWkqyJFDm"
      }
    },
    {
      "cell_type": "code",
      "source": [
        "from ase import Atoms"
      ],
      "metadata": {
        "id": "4c0c2fNHJPv7"
      },
      "execution_count": 9,
      "outputs": []
    },
    {
      "cell_type": "code",
      "source": [
        "from dscribe.descriptors import CoulombMatrix, ACSF, SOAP, MBTR\n",
        "\n",
        "mols = [Atoms(positions=coordinates, symbols=symbols) for (symbols, coordinates) in XYZ]\n",
        "\n",
        "# informa o tipo de descritor selecionado\n",
        "descriptor = 'CM' # CM, SOAP, MBTR, ACSF"
      ],
      "metadata": {
        "id": "67iWY6ShJSut"
      },
      "execution_count": 10,
      "outputs": []
    },
    {
      "cell_type": "markdown",
      "source": [
        "## Matriz de Coulomb (CM)"
      ],
      "metadata": {
        "id": "Y7MLaAetQMI9"
      }
    },
    {
      "cell_type": "code",
      "source": [
        "if descriptor == 'CM':\n",
        "    cm = CoulombMatrix(n_atoms_max=max_atoms, permutation=\"eigenspectrum\")\n",
        "    X = cm.create(mols)\n",
        "    print(X.shape)"
      ],
      "metadata": {
        "colab": {
          "base_uri": "https://localhost:8080/"
        },
        "id": "zbRvJiJ9Kz8i",
        "outputId": "03148cc2-7dc6-414b-cea1-c1efb2708371"
      },
      "execution_count": 11,
      "outputs": [
        {
          "output_type": "stream",
          "name": "stdout",
          "text": [
            "(133885, 29)\n"
          ]
        }
      ]
    },
    {
      "cell_type": "markdown",
      "source": [
        "## Atom-centered Symmetry Functions (ACSF)\n",
        "\n",
        "---\n",
        "\n"
      ],
      "metadata": {
        "id": "nNKSPxoDRiGH"
      }
    },
    {
      "cell_type": "code",
      "source": [
        "if descriptor == 'ACSF':\n",
        "    acsf = ACSF(\n",
        "        species=[\"H\", \"C\", \"O\", \"N\", \"F\"],\n",
        "        r_cut=6.0,\n",
        "        g2_params=[[1, 1], [1, 2], [1, 3]],\n",
        "        g4_params=[[1, 1, 1], [1, 2, 1], [1, 1, -1], [1, 2, -1]],\n",
        "    )\n",
        "    centers = samples*[[0]]\n",
        "    X = acsf.create(mols, centers).reshape([samples,-1])\n",
        "    print(X.shape)"
      ],
      "metadata": {
        "id": "HHNkY471RpTA"
      },
      "execution_count": 12,
      "outputs": []
    },
    {
      "cell_type": "markdown",
      "source": [
        "## Smooth Overlap of Atomic Positions (SOAP)"
      ],
      "metadata": {
        "id": "LV-KUPnsQQlc"
      }
    },
    {
      "cell_type": "code",
      "source": [
        "if descriptor == 'SOAP':\n",
        "    soap = SOAP(\n",
        "        species=[\"H\", \"C\", \"O\", \"N\", \"F\"],\n",
        "        periodic=False,\n",
        "        r_cut=6.0,\n",
        "        n_max=8,\n",
        "        l_max=6,\n",
        "    )\n",
        "\n",
        "    centers = samples*[[0]]\n",
        "    X = soap.create(mols, centers).reshape([samples, -1])\n",
        "    print(X.shape)"
      ],
      "metadata": {
        "id": "eyCdXhkRK3jh"
      },
      "execution_count": 13,
      "outputs": []
    },
    {
      "cell_type": "markdown",
      "source": [
        "## Many-body Tensor Representation (MBTR)"
      ],
      "metadata": {
        "id": "472T-DiJRMy8"
      }
    },
    {
      "cell_type": "code",
      "source": [
        "if descriptor == 'MBTR':\n",
        "  mbtr = MBTR(\n",
        "      species=[\"H\", \"C\", \"O\", \"N\", \"F\"],\n",
        "      geometry={\"function\": \"distance\"},\n",
        "      grid={\"min\": 0.4, \"max\": 8, \"sigma\": 0.1, \"n\": 100},\n",
        "      periodic=False,\n",
        "      sparse=False,\n",
        "      normalization=\"l2\",\n",
        "  )\n",
        "\n",
        "  X = mbtr.create(mols)\n",
        "  print(X.shape)"
      ],
      "metadata": {
        "id": "KQB8RbDCRWSi"
      },
      "execution_count": 14,
      "outputs": []
    },
    {
      "cell_type": "markdown",
      "source": [
        "# Preparação dos Dados\n"
      ],
      "metadata": {
        "id": "KLKClLjrygKn"
      }
    },
    {
      "cell_type": "code",
      "source": [
        "from sklearn.utils import shuffle\n",
        "X, Y = shuffle(X, Y, random_state=0)"
      ],
      "metadata": {
        "id": "CEAv1ZJmU8sW"
      },
      "execution_count": 15,
      "outputs": []
    },
    {
      "cell_type": "markdown",
      "source": [
        "**Q9 Dataset: Propriedades**\n",
        "\n",
        "0. Rotational constant A: GHz\n",
        "1. Rotational constant B: GHz\n",
        "2. Rotational constant C: GHz\n",
        "3. Dipole moment (μ): Debye (D)\n",
        "4. Isotropic polarizability (α): atomic units (a.u.)\n",
        "5. Energy of HOMO (ϵHOMO): Hartree (Ha)\n",
        "6. Energy of LUMO (ϵLUMO): Hartree (Ha)\n",
        "7. Gap (ϵgap): Hartree (Ha)\n",
        "8. Electronic spatial extent: atomic units (a.u.)\n",
        "9. Zero point vibrational energy (zpve): Hartree (Ha)\n",
        "10. Internal energy at 0 K (U0): Hartree (Ha)\n",
        "11. Internal energy at 298.15 K (U): Hartree (Ha)\n",
        "12. Enthalpy at 298.15 K (H): Hartree (Ha)\n",
        "13. Free energy at 298.15 K (G): Hartree (Ha)\n",
        "15. Heat capacity at 298.15 K (Cv): cal/mol·K\n",
        "\n"
      ],
      "metadata": {
        "id": "LnrSdudeeBgB"
      }
    },
    {
      "cell_type": "code",
      "source": [
        "# Seleção da propriedade alvo\n",
        "att_alvo = 10 # 15 propriedades [0-14]\n",
        "Ys = Y[:,att_alvo].reshape(-1,1)\n",
        "plt.hist(Y[:,att_alvo], bins=50, edgecolor='black', alpha=0.7)\n",
        "plt.xlabel('Propriedade')\n",
        "plt.ylabel('Frequencia')\n",
        "plt.title('Distribuição da Propriedade Selecionada')\n",
        "plt.grid(True)\n",
        "plt.show()\n"
      ],
      "metadata": {
        "colab": {
          "base_uri": "https://localhost:8080/",
          "height": 472
        },
        "id": "0BG5b8VO1A7d",
        "outputId": "132ac834-b0e7-47ee-bed8-61eff0a80843"
      },
      "execution_count": 16,
      "outputs": [
        {
          "output_type": "display_data",
          "data": {
            "text/plain": [
              "<Figure size 640x480 with 1 Axes>"
            ],
            "image/png": "[encoded data removed]"
          },
          "metadata": {}
        }
      ]
    },
    {
      "cell_type": "code",
      "source": [
        "# Normalização, Split, DataLoader\n",
        "from sklearn.preprocessing import StandardScaler\n",
        "scaler = StandardScaler()\n",
        "Xn = scaler.fit_transform(X)"
      ],
      "metadata": {
        "id": "eryeTB6JSxGP"
      },
      "execution_count": 17,
      "outputs": []
    },
    {
      "cell_type": "code",
      "source": [
        "class Data(Dataset):\n",
        "    def __init__(self, data, targets):\n",
        "        self.data = data\n",
        "        self.targets = targets\n",
        "\n",
        "    def __len__(self):\n",
        "        return len(self.data)\n",
        "\n",
        "    def __getitem__(self, idx):\n",
        "        return torch.from_numpy(self.data[idx]).float(), torch.from_numpy(self.targets[idx]).float()\n",
        "\n",
        "dataset = Data(Xn,Ys)"
      ],
      "metadata": {
        "id": "m9t3hx_-VCtt"
      },
      "execution_count": 18,
      "outputs": []
    },
    {
      "cell_type": "code",
      "source": [
        "batch_size = 256\n",
        "\n",
        "train_len = int(0.8 * len(dataset))\n",
        "val_len = int(0.1 * len(dataset))\n",
        "test_len = len(dataset) - train_len - val_len\n",
        "\n",
        "train_dataset, val_dataset, test_dataset = random_split(dataset, [train_len, val_len, test_len])\n",
        "\n",
        "train_loader = DataLoader(train_dataset, batch_size=batch_size, shuffle=True)\n",
        "val_loader = DataLoader(val_dataset, batch_size=batch_size, shuffle=False)\n",
        "test_loader = DataLoader(test_dataset, batch_size=batch_size, shuffle=False)"
      ],
      "metadata": {
        "id": "Wq6c43ueHRvP"
      },
      "execution_count": 19,
      "outputs": []
    },
    {
      "cell_type": "markdown",
      "source": [
        "# Rede Neural\n"
      ],
      "metadata": {
        "id": "KxWBYScQSZL9"
      }
    },
    {
      "cell_type": "markdown",
      "source": [
        "## Modelo (Pytorch)"
      ],
      "metadata": {
        "id": "35CD53rZSt-C"
      }
    },
    {
      "cell_type": "code",
      "source": [
        "class MLP(nn.Module):\n",
        "    def __init__(self, input_dim, output_dim, layers, lr=0.001):\n",
        "        super(MLP, self).__init__()\n",
        "        all_layers = []\n",
        "        prev_dim = input_dim\n",
        "\n",
        "        # Camadas ocultas\n",
        "        for layer_dim in layers:\n",
        "            all_layers.append(nn.Linear(prev_dim, layer_dim))\n",
        "            all_layers.append(nn.ReLU())\n",
        "            prev_dim = layer_dim\n",
        "\n",
        "        # Camada de saída (ativação linear - regressão)\n",
        "        all_layers.append(nn.Linear(prev_dim, output_dim))\n",
        "\n",
        "        # Combinando as camadas\n",
        "        self.layers = nn.Sequential(*all_layers)\n",
        "\n",
        "        self.criterion = nn.L1Loss() #nn.MSELoss()\n",
        "        self.optimizer = optim.Adam(self.parameters(), lr=lr)\n",
        "\n",
        "    def forward(self, x):\n",
        "        return self.layers(x)\n",
        "\n",
        "    def train_model(self, dataloader):\n",
        "        self.train()\n",
        "        total_loss = 0\n",
        "        for batch_x, batch_y in dataloader:\n",
        "            batch_x, batch_y = batch_x.to(device), batch_y.to(device)\n",
        "            self.optimizer.zero_grad()\n",
        "            outputs = self(batch_x)\n",
        "            loss = self.criterion(outputs, batch_y)\n",
        "            loss.backward()\n",
        "            self.optimizer.step()\n",
        "            total_loss += loss.item()\n",
        "        return total_loss / len(dataloader)\n",
        "\n",
        "    def validate_model(self, dataloader):\n",
        "        self.eval()\n",
        "        total_loss = 0\n",
        "        with torch.no_grad():\n",
        "            for batch_x, batch_y in dataloader:\n",
        "                batch_x, batch_y = batch_x.to(device), batch_y.to(device)\n",
        "                outputs = self(batch_x)\n",
        "                loss = self.criterion(outputs, batch_y)\n",
        "                total_loss += loss.item()\n",
        "        return total_loss / len(dataloader)\n",
        "\n",
        "    def test_model(self, dataloader):\n",
        "        self.eval()\n",
        "        predictions = []\n",
        "        targets = []\n",
        "        total_loss = 0\n",
        "        with torch.no_grad():\n",
        "            for batch_x, batch_y in dataloader:\n",
        "                batch_x, batch_y = batch_x.to(device), batch_y.to(device)\n",
        "                outputs = self(batch_x)\n",
        "                loss = self.criterion(outputs, batch_y)\n",
        "                total_loss += loss.item()\n",
        "                predictions.extend(outputs.cpu().tolist())\n",
        "                targets.extend(batch_y.cpu().tolist())\n",
        "        return predictions, targets, total_loss / len(dataloader)\n",
        "\n",
        "    def predict(self, dataloader):\n",
        "        self.eval()\n",
        "        predictions = []\n",
        "        with torch.no_grad():\n",
        "            for batch_x, _ in dataloader:\n",
        "                batch_x = batch_x.to(device)\n",
        "                outputs = self(batch_x)\n",
        "                predictions.extend(outputs.cpu().tolist())\n",
        "        return predictions"
      ],
      "metadata": {
        "id": "OT-v1W3CA5TF"
      },
      "execution_count": 20,
      "outputs": []
    },
    {
      "cell_type": "code",
      "source": [
        "class EarlyStopping:\n",
        "    def __init__(self, patience=5, verbose=False, delta=0):\n",
        "        \"\"\"\n",
        "        Args:\n",
        "            patience (int): How long to wait after last time validation loss improved.\n",
        "            verbose (bool): If True, prints a message for each validation loss improvement.\n",
        "            delta (float): Minimum change in the monitored quantity to qualify as an improvement.\n",
        "        \"\"\"\n",
        "        self.patience = patience\n",
        "        self.verbose = verbose\n",
        "        self.counter = 0\n",
        "        self.best_score = None\n",
        "        self.early_stop = False\n",
        "        self.val_loss_min = float('inf')\n",
        "        self.delta = delta\n",
        "\n",
        "    def __call__(self, val_loss, model):\n",
        "\n",
        "        score = -val_loss\n",
        "\n",
        "        if self.best_score is None:\n",
        "            self.best_score = score\n",
        "            self.save_checkpoint(val_loss, model)\n",
        "        elif score < self.best_score + self.delta:\n",
        "            self.counter += 1\n",
        "            if self.verbose:\n",
        "                print(f'EarlyStopping counter: {self.counter} out of {self.patience}')\n",
        "            if self.counter >= self.patience:\n",
        "                self.early_stop = True\n",
        "        else:\n",
        "            self.best_score = score\n",
        "            self.save_checkpoint(val_loss, model)\n",
        "            self.counter = 0\n",
        "\n",
        "    def save_checkpoint(self, val_loss, model):\n",
        "        '''Saves model when validation loss decreases.'''\n",
        "        if self.verbose:\n",
        "            print(f'Validation loss decreased ({self.val_loss_min:.6f} --> {val_loss:.6f}).  Saving model ...')\n",
        "        torch.save(model.state_dict(), 'checkpoint.pt')\n",
        "        self.val_loss_min = val_loss\n"
      ],
      "metadata": {
        "id": "MBJgmmiEtc84"
      },
      "execution_count": 21,
      "outputs": []
    },
    {
      "cell_type": "markdown",
      "source": [
        "## Treinamento"
      ],
      "metadata": {
        "id": "CTcKgcEZStxX"
      }
    },
    {
      "cell_type": "code",
      "source": [
        "num_epochs = 1000\n",
        "learning_rate = 0.001\n",
        "# Definição do Modelo\n",
        "model = MLP(input_dim=X.shape[1], output_dim=1, layers=[180], lr=learning_rate).to(device)\n",
        "\n",
        "# Early Stop\n",
        "early_stopping = EarlyStopping(patience=20, verbose=False)\n",
        "\n",
        "tloss = []\n",
        "vloss = []\n",
        "for epoch in range(num_epochs):\n",
        "    train_loss = model.train_model(train_loader)\n",
        "    val_loss = model.validate_model(val_loader)\n",
        "    tloss.append(train_loss)\n",
        "    vloss.append(val_loss)\n",
        "    if (epoch+1) % 10 == 0:\n",
        "        print(f\"Época {epoch+1}/{num_epochs}, Train Loss: {train_loss:.4f}, Validation Loss: {val_loss:.4f}\")\n",
        "    early_stopping(val_loss, model)\n",
        "    if early_stopping.early_stop:\n",
        "        print(\"Early stopping\")\n",
        "        break\n",
        "\n",
        "fig, ax = plt.subplots(figsize=(6, 6))\n",
        "ax.set_title(\"Curva de Erro\")\n",
        "ax.plot(tloss,'blue', label='Treino')\n",
        "ax.plot(vloss,'red', label='Validação')\n",
        "ax.legend()\n",
        "ax.grid(True)\n",
        "plt.show()\n"
      ],
      "metadata": {
        "colab": {
          "base_uri": "https://localhost:8080/",
          "height": 649
        },
        "id": "AVDVjaFSqpXY",
        "outputId": "4d660460-465b-403d-8e7c-54ebf9ceb4aa"
      },
      "execution_count": 26,
      "outputs": [
        {
          "output_type": "stream",
          "name": "stdout",
          "text": [
            "Época 10/1000, Train Loss: 6.5931, Validation Loss: 5.4009\n",
            "Época 20/1000, Train Loss: 0.3418, Validation Loss: 0.3286\n",
            "Época 30/1000, Train Loss: 0.1837, Validation Loss: 0.2162\n",
            "Época 40/1000, Train Loss: 0.1639, Validation Loss: 0.1776\n",
            "Época 50/1000, Train Loss: 0.1675, Validation Loss: 0.2215\n",
            "Early stopping\n"
          ]
        },
        {
          "output_type": "display_data",
          "data": {
            "text/plain": [
              "<Figure size 600x600 with 1 Axes>"
            ],
            "image/png": "[encoded data removed]"
          },
          "metadata": {}
        }
      ]
    },
    {
      "cell_type": "code",
      "source": [
        "Yp, Yt, loss_test = model.test_model(test_loader)\n",
        "\n",
        "plt.figure(figsize=(6, 6))\n",
        "plt.scatter(Yp, Yt, alpha=0.6)\n",
        "\n",
        "max_val = max(max(Yt), max(Yp))\n",
        "min_val = min(min(Yt), min(Yp))\n",
        "plt.plot([min_val, max_val], [min_val, max_val], 'r', linestyle='--')\n",
        "\n",
        "plt.xlabel('Valor Real')\n",
        "plt.ylabel('Valor Predito')\n",
        "plt.title('Predito vs. Real')\n",
        "plt.grid(True)\n",
        "\n",
        "print(f\"Erro de predição (MAE) no conjunto de teste: {loss_test}\")\n",
        "\n",
        "plt.show()\n",
        "\n"
      ],
      "metadata": {
        "colab": {
          "base_uri": "https://localhost:8080/",
          "height": 581
        },
        "id": "hafA_hyYt7jc",
        "outputId": "96e169ee-feb2-4574-d3a1-cb0347622231"
      },
      "execution_count": 27,
      "outputs": [
        {
          "output_type": "stream",
          "name": "stdout",
          "text": [
            "Erro de predição (MAE) no conjunto de teste: 0.18303357486454946\n"
          ]
        },
        {
          "output_type": "display_data",
          "data": {
            "text/plain": [
              "<Figure size 600x600 with 1 Axes>"
            ],
            "image/png": "[encoded data removed]"
          },
          "metadata": {}
        }
      ]
    },
    {
      "cell_type": "markdown",
      "source": [
        "# Otimizando os Hiperparâmetros"
      ],
      "metadata": {
        "id": "9I3h9Lo95YGY"
      }
    },
    {
      "cell_type": "markdown",
      "source": [
        "## Função Objetivo Optuna"
      ],
      "metadata": {
        "id": "UiHEvNrPo5Bu"
      }
    },
    {
      "cell_type": "code",
      "source": [
        "def objective(trial):\n",
        "    early_stopping = EarlyStopping(patience=7, verbose=False)\n",
        "    # lr = trial.suggest_float('lr', 1e-5, 1e-1, log=True)\n",
        "    lr = 0.001\n",
        "    n_layers = trial.suggest_int('n_layers', 1, 3)\n",
        "    layers = []\n",
        "    for i in range(n_layers):\n",
        "        layers.append(trial.suggest_int(f'n_units_l{i+1}', 20, 400, 20))\n",
        "\n",
        "    model = MLP(input_dim=X.shape[1], output_dim=1, layers=layers, lr=lr).to(device)\n",
        "    optimizer = torch.optim.Adam(model.parameters(), lr=lr)\n",
        "    for epoch in range(2000): # máximo épocas\n",
        "        train_loss = model.train_model(train_loader)\n",
        "        val_loss = model.validate_model(val_loader)\n",
        "        early_stopping(val_loss, model)\n",
        "        if early_stopping.early_stop:\n",
        "            break\n",
        "    return val_loss\n"
      ],
      "metadata": {
        "id": "eJPoq6IV5bc2"
      },
      "execution_count": 24,
      "outputs": []
    },
    {
      "cell_type": "markdown",
      "source": [
        "## Otimização\n",
        "\n",
        "**Cuidado:** O custo computacional pode ser elevado"
      ],
      "metadata": {
        "id": "avslFaZHo8c5"
      }
    },
    {
      "cell_type": "code",
      "source": [
        "study = optuna.create_study(direction='minimize')\n",
        "study.optimize(objective, n_trials=10)\n",
        "\n",
        "print('Número de tentativas: ', len(study.trials))\n",
        "print('Melhor Resultado:')\n",
        "trial = study.best_trial\n",
        "\n",
        "print('MAE: ', trial.value)\n",
        "print('Hiperparâmetros: ')\n",
        "for key, value in trial.params.items():\n",
        "    print(f'    {key}: {value}')\n"
      ],
      "metadata": {
        "colab": {
          "base_uri": "https://localhost:8080/"
        },
        "id": "eZpIsU-Go82f",
        "outputId": "f61effa4-2c53-44ac-f56b-3e264a3fa54f"
      },
      "execution_count": 25,
      "outputs": [
        {
          "output_type": "stream",
          "name": "stderr",
          "text": [
            "[I 2023-09-18 23:32:14,365] A new study created in memory with name: no-name-179e6fd2-8961-47b1-80ba-703aab076ba5\n",
            "[I 2023-09-18 23:32:53,119] Trial 0 finished with value: 1.8976233230446868 and parameters: {'n_layers': 3, 'n_units_l1': 220, 'n_units_l2': 220, 'n_units_l3': 80}. Best is trial 0 with value: 1.8976233230446868.\n",
            "[I 2023-09-18 23:33:32,242] Trial 1 finished with value: 0.5949354644091625 and parameters: {'n_layers': 2, 'n_units_l1': 260, 'n_units_l2': 80}. Best is trial 1 with value: 0.5949354644091625.\n",
            "[I 2023-09-18 23:34:49,437] Trial 2 finished with value: 0.9790772716954069 and parameters: {'n_layers': 2, 'n_units_l1': 400, 'n_units_l2': 140}. Best is trial 1 with value: 0.5949354644091625.\n",
            "[I 2023-09-18 23:35:59,318] Trial 3 finished with value: 0.2185965081993139 and parameters: {'n_layers': 1, 'n_units_l1': 360}. Best is trial 3 with value: 0.2185965081993139.\n",
            "[I 2023-09-18 23:37:32,587] Trial 4 finished with value: 0.17391846202454478 and parameters: {'n_layers': 1, 'n_units_l1': 160}. Best is trial 4 with value: 0.17391846202454478.\n",
            "[I 2023-09-18 23:38:48,751] Trial 5 finished with value: 0.20600093198272418 and parameters: {'n_layers': 1, 'n_units_l1': 260}. Best is trial 4 with value: 0.17391846202454478.\n",
            "[I 2023-09-18 23:40:21,782] Trial 6 finished with value: 1.5234046252268665 and parameters: {'n_layers': 3, 'n_units_l1': 360, 'n_units_l2': 400, 'n_units_l3': 200}. Best is trial 4 with value: 0.17391846202454478.\n",
            "[I 2023-09-18 23:41:44,804] Trial 7 finished with value: 0.38551455398775497 and parameters: {'n_layers': 2, 'n_units_l1': 300, 'n_units_l2': 40}. Best is trial 4 with value: 0.17391846202454478.\n",
            "[I 2023-09-18 23:43:35,968] Trial 8 finished with value: 0.15215822927794367 and parameters: {'n_layers': 1, 'n_units_l1': 180}. Best is trial 8 with value: 0.15215822927794367.\n",
            "[I 2023-09-18 23:44:33,603] Trial 9 finished with value: 1.1263614915451914 and parameters: {'n_layers': 3, 'n_units_l1': 200, 'n_units_l2': 120, 'n_units_l3': 360}. Best is trial 8 with value: 0.15215822927794367.\n"
          ]
        },
        {
          "output_type": "stream",
          "name": "stdout",
          "text": [
            "Número de tentativas:  10\n",
            "Melhor Resultado:\n",
            "MAE:  0.15215822927794367\n",
            "Hiperparâmetros: \n",
            "    n_layers: 1\n",
            "    n_units_l1: 180\n"
          ]
        }
      ]
    },
    {
      "cell_type": "markdown",
      "source": [
        "# Experimentos (Sugestões)\n",
        "\n",
        "\n",
        "\n"
      ],
      "metadata": {
        "id": "HDLwbbGwSbOD"
      }
    },
    {
      "cell_type": "markdown",
      "source": [
        "1.   Desenvolver um modelo para outra propriedade do QM9 (ajustar os hiperparâmetros do modelo)\n",
        "2.   Selecionar outro descritor e avaliar o impacto na predição (não usar o SOAP - limitação da memó\n"
      ],
      "metadata": {
        "id": "aQvrlGWch6Ta"
      }
    }
  ]
}